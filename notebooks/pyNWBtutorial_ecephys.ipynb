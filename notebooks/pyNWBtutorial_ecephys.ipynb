{
 "cells": [
  {
   "cell_type": "code",
   "execution_count": 1,
   "metadata": {
    "collapsed": false,
    "jupyter": {
     "outputs_hidden": false
    }
   },
   "outputs": [],
   "source": [
    "%matplotlib inline"
   ]
  },
  {
   "cell_type": "markdown",
   "metadata": {},
   "source": [
    "\n",
    "\n",
    "Extracellular electrophysiology data\n",
    "============================================\n",
    "\n",
    "The following examples will reference variables that may not be defined within the block they are used in. For\n",
    "clarity, we define them here:\n"
   ]
  },
  {
   "cell_type": "code",
   "execution_count": 2,
   "metadata": {
    "collapsed": false,
    "jupyter": {
     "outputs_hidden": false
    }
   },
   "outputs": [],
   "source": [
    "import numpy as np"
   ]
  },
  {
   "cell_type": "markdown",
   "metadata": {},
   "source": [
    "Creating and Writing NWB files\n",
    "------------------------------\n",
    "\n",
    "When creating a NWB file, the first step is to create the :py:class:`~pynwb.file.NWBFile`. The first\n",
    "argument is the name of the NWB file, and the second argument is a brief description of the dataset.\n",
    "\n"
   ]
  },
  {
   "cell_type": "code",
   "execution_count": 7,
   "metadata": {
    "collapsed": false,
    "jupyter": {
     "outputs_hidden": false
    }
   },
   "outputs": [],
   "source": [
    "from datetime import datetime\n",
    "from dateutil.tz import tzlocal\n",
    "from pynwb import NWBFile\n",
    "\n",
    "nwbfile = NWBFile('update task behavior recording', 'S1_200310', datetime.now(tzlocal()),\n",
    "                  experimenter='Steph Prince',\n",
    "                  lab='Signer',\n",
    "                  institution='Georgia Tech',\n",
    "                  experiment_description='update task recording during behavior',\n",
    "                  session_id='S1_200310')"
   ]
  },
  {
   "cell_type": "markdown",
   "metadata": {},
   "source": [
    "Electrode metadata\n",
    "^^^^^^^^^^^^^^^^^^\n",
    "\n",
    "Electrode groups (i.e. experimentally relevant groupings of channels) are represented by\n",
    ":py:class:`~pynwb.ecephys.ElectrodeGroup` objects. To create an electrode group, you can use the\n",
    ":py:class:`~pynwb.file.NWBFile` instance method :py:meth:`~pynwb.file.NWBFile.create_electrode_group`.\n",
    "\n",
    "Before creating an :py:class:`~pynwb.ecephys.ElectrodeGroup`, you need to provide some information about the\n",
    "device that was used to record from the electrode. This is done by creating a :py:class:`~pynwb.device.Device`\n",
    "object using the instance method :py:meth:`~pynwb.file.NWBFile.create_device`.\n",
    "\n"
   ]
  },
  {
   "cell_type": "code",
   "execution_count": 14,
   "metadata": {
    "collapsed": false,
    "jupyter": {
     "outputs_hidden": false
    }
   },
   "outputs": [],
   "source": [
    "device = nwbfile.create_device(name='SpikeGadgets_headstage_RigC')"
   ]
  },
  {
   "cell_type": "markdown",
   "metadata": {},
   "source": [
    "Once you have created the :py:class:`~pynwb.device.Device`, you can create an\n",
    ":py:class:`~pynwb.ecephys.ElectrodeGroup`.\n",
    "\n"
   ]
  },
  {
   "cell_type": "code",
   "execution_count": 17,
   "metadata": {
    "collapsed": false,
    "jupyter": {
     "outputs_hidden": false
    }
   },
   "outputs": [],
   "source": [
    "electrode_name = 'N0131'\n",
    "description = \"64 channel dual shank poly 3 Neuronexus probe\"\n",
    "location = \"dorsal CA1 in hippocampus\"\n",
    "\n",
    "electrode_group = nwbfile.create_electrode_group(electrode_name,\n",
    "                                                 description=description,\n",
    "                                                 location=location,\n",
    "                                                 device=device)"
   ]
  },
  {
   "cell_type": "markdown",
   "metadata": {},
   "source": [
    "After setting up electrode group metadata, you should add metadata about the individual electrodes comprising\n",
    "each electrode group. This is done with :py:func:`~pynwb.file.NWBFile.add_electrode`.\n",
    "\n",
    "The first argument to :py:class:`~pynwb.file.NWBFile.add_electrode` is a unique identifier that the user should\n",
    "assign. For details on the rest of the arguments, please see the\n",
    ":py:func:`API documentation <pynwb.file.NWBFile.add_electrode>`.\n",
    "\n"
   ]
  },
  {
   "cell_type": "code",
   "execution_count": 20,
   "metadata": {
    "collapsed": false,
    "jupyter": {
     "outputs_hidden": false
    }
   },
   "outputs": [],
   "source": [
    "for idx in [1, 2, 3, 4]:\n",
    "    nwbfile.add_electrode(id=idx,\n",
    "                          x=1.0, y=2.0, z=3.0,\n",
    "                          imp=float(-idx),\n",
    "                          location='CA1', filtering='none',\n",
    "                          group=electrode_group)"
   ]
  },
  {
   "cell_type": "code",
   "execution_count": 22,
   "metadata": {},
   "outputs": [
    {
     "data": {
      "text/plain": [
       "electrodes hdmf.common.table.DynamicTable at 0x140678075479232\n",
       "Fields:\n",
       "  colnames: ['x' 'y' 'z' 'imp' 'location' 'filtering' 'group' 'group_name']\n",
       "  columns: (\n",
       "    x <class 'hdmf.common.table.VectorData'>,\n",
       "    y <class 'hdmf.common.table.VectorData'>,\n",
       "    z <class 'hdmf.common.table.VectorData'>,\n",
       "    imp <class 'hdmf.common.table.VectorData'>,\n",
       "    location <class 'hdmf.common.table.VectorData'>,\n",
       "    filtering <class 'hdmf.common.table.VectorData'>,\n",
       "    group <class 'hdmf.common.table.VectorData'>,\n",
       "    group_name <class 'hdmf.common.table.VectorData'>\n",
       "  )\n",
       "  description: metadata about extracellular electrodes\n",
       "  id: id <class 'hdmf.common.table.ElementIdentifiers'>"
      ]
     },
     "execution_count": 22,
     "metadata": {},
     "output_type": "execute_result"
    }
   ],
   "source": [
    "nwbfile.electrodes"
   ]
  },
  {
   "cell_type": "markdown",
   "metadata": {},
   "source": [
    ".. note: :py:class:`~pynwb.file.NWBFile.add_electrode` returns the index of the electrode you just added.\n",
    "   This can come in handy when creating with an :py:class:`~pynwb.core.DynamicTableRegion`\n",
    "   :py:class:`~pynwb.file.NWBFile.create_electrode_table_region` (See `ec_recordings`).\n",
    "\n"
   ]
  },
  {
   "cell_type": "markdown",
   "metadata": {},
   "source": [
    "\n",
    "Extracellular recordings\n",
    "^^^^^^^^^^^^^^^^^^^^^^^^\n",
    "\n",
    "The main classes for storing extracellular recordings are :py:class:`~pynwb.ecephys.ElectricalSeries`\n",
    "and :py:class:`~pynwb.ecephys.SpikeEventSeries`. :py:class:`~pynwb.ecephys.ElectricalSeries` should be used\n",
    "for storing raw voltage traces, local-field potential and filtered voltage traces and\n",
    ":py:class:`~pynwb.ecephys.SpikeEventSeries` is meant for storing spike waveforms (typically in preparation for\n",
    "clustering). The results of spike clustering (e.g. per-unit metadata and spike times) should be stored in the\n",
    "top-level :py:class:`~pynwb.misc.Units` table.\n",
    "\n",
    "In addition to the *data* and *timestamps* fields inherited\n",
    "from :py:class:`~pynwb.base.TimeSeries` class, these two classs will require metadata about the elctrodes\n",
    "from which *data* was generated. This is done by providing an :py:class:`~pynwb.core.DynamicTableRegion`,\n",
    "which you can create using the :py:class:`~pynwb.file.NWBFile.create_electrode_table_region`\n",
    "\n",
    "The first argument to :py:class:`~pynwb.file.NWBFile.create_electrode_table_region` a list of the\n",
    "indices of the electrodes you want in the region..\n",
    "\n"
   ]
  },
  {
   "cell_type": "code",
   "execution_count": 23,
   "metadata": {
    "collapsed": false,
    "jupyter": {
     "outputs_hidden": false
    }
   },
   "outputs": [],
   "source": [
    "electrode_table_region = nwbfile.create_electrode_table_region([0, 1], 'the first and second electrodes')"
   ]
  },
  {
   "cell_type": "markdown",
   "metadata": {},
   "source": [
    "Now that we have a :py:class:`~pynwb.core.DynamicTableRegion`, we can create an\n",
    ":py:class:`~pynwb.ecephys.ElectricalSeries` and add it to our :py:class:`~pynwb.file.NWBFile`.\n",
    "\n"
   ]
  },
  {
   "cell_type": "code",
   "execution_count": 24,
   "metadata": {
    "collapsed": false,
    "jupyter": {
     "outputs_hidden": false
    }
   },
   "outputs": [],
   "source": [
    "from pynwb.ecephys import ElectricalSeries\n",
    "\n",
    "rate = 10.0\n",
    "np.random.seed(1234)\n",
    "data_len = 1000\n",
    "ephys_data = np.random.rand(data_len * 2).reshape((data_len, 2))\n",
    "ephys_timestamps = np.arange(data_len) / rate\n",
    "\n",
    "ephys_ts = ElectricalSeries('test_ephys_data',\n",
    "                            ephys_data,\n",
    "                            electrode_table_region,\n",
    "                            timestamps=ephys_timestamps,\n",
    "                            # Alternatively, could specify starting_time and rate as follows\n",
    "                            # starting_time=ephys_timestamps[0],\n",
    "                            # rate=rate,\n",
    "                            resolution=0.001,\n",
    "                            comments=\"This data was randomly generated with numpy, using 1234 as the seed\",\n",
    "                            description=\"Random numbers generated with numpy.random.rand\")\n",
    "nwbfile.add_acquisition(ephys_ts)"
   ]
  },
  {
   "cell_type": "markdown",
   "metadata": {},
   "source": [
    "\n",
    "Associate electrodes with units\n",
    "^^^^^^^^^^^^^^^^^^^^^^^^^^^^^^^\n",
    "\n",
    "The `PyNWB Basics tutorial <basics>` demonstrates how to add data about units and specifying custom metadata\n",
    "about units. As mentioned `here <units_fields_ref>`, there are some optional fields for units, one of these\n",
    "is *electrodes*. This field takes a list of indices into the electrode table for the electrodes that the unit\n",
    "corresponds to. For example, if two units were inferred from the first electrode (*id* = 1, index = 0), you would\n",
    "specify that like so:\n",
    "\n"
   ]
  },
  {
   "cell_type": "code",
   "execution_count": 27,
   "metadata": {
    "collapsed": false,
    "jupyter": {
     "outputs_hidden": false
    }
   },
   "outputs": [],
   "source": [
    "nwbfile.add_unit(id=1, electrodes=[0])\n",
    "nwbfile.add_unit(id=2, electrodes=[0])"
   ]
  },
  {
   "cell_type": "markdown",
   "metadata": {},
   "source": [
    "Designating electrophysiology data\n",
    "^^^^^^^^^^^^^^^^^^^^^^^^^^^^^^^^^^\n",
    "\n",
    "As mentioned above, :py:class:`~pynwb.ecephys.ElectricalSeries` and :py:class:`~pynwb.ecephys.SpikeEventSeries`\n",
    "are meant for storing specific types of extracellular recordings. In addition to these two\n",
    ":py:class:`~pynwb.base.TimeSeries` classes, NWB provides some `data interfaces <basic_data_interfaces>`\n",
    "for designating the type of data you are storing. We will briefly discuss them here, and refer the reader to\n",
    ":py:mod:`API documentation <pynwb.ecephys>` and `PyNWB Basics tutorial <basics>` for more details on\n",
    "using these objects.\n",
    "\n",
    "For storing spike data, there are two options. Which one you choose depends on what data you have available.\n",
    "If you need to store the complete, continuous raw voltage traces, you should store your the traces with\n",
    ":py:class:`~pynwb.ecephys.ElectricalSeries` objects as `acquisition <basic_timeseries>` data, and use\n",
    "the :py:class:`~pynwb.ecephys.EventDetection` class for identifying the spike events in your raw traces.\n",
    "If you do not want to store the raw voltage traces and only the waveform 'snippets' surrounding spike events,\n",
    "you should use the :py:class:`~pynwb.ecephys.EventWaveform` class, which can store one or more\n",
    ":py:class:`~pynwb.ecephys.SpikeEventSeries` objects.\n",
    "\n",
    "The results of spike sorting (or clustering) should be stored in the top-level :py:class:`~pynwb.misc.Units` table.\n",
    "Note that it is not required to store spike waveforms in order to store spike events or waveforms--if you only\n",
    "want to store the spike times of clustered units you can use only the Units table.\n",
    "\n",
    "For local field potential data, there are two options. Again, which one you choose depends on what data you\n",
    "have available. With both options, you should store your traces with :py:class:`~pynwb.ecephys.ElectricalSeries`\n",
    "objects. If you are storing unfiltered local field potential data, you should store\n",
    "the :py:class:`~pynwb.ecephys.ElectricalSeries` objects in :py:class:`~pynwb.ecephys.LFP` data interface object(s).\n",
    "If you have filtered LFP data, you should store the :py:class:`~pynwb.ecephys.ElectricalSeries` objects  in\n",
    ":py:class:`~pynwb.ecephys.FilteredEphys` data interface object(s).\n",
    "\n"
   ]
  },
  {
   "cell_type": "markdown",
   "metadata": {},
   "source": [
    "\n",
    "Once you have finished adding all of your data to the :py:class:`~pynwb.file.NWBFile`,\n",
    "write the file with :py:class:`~pynwb.NWBHDF5IO`.\n",
    "\n"
   ]
  },
  {
   "cell_type": "code",
   "execution_count": 28,
   "metadata": {
    "collapsed": false,
    "jupyter": {
     "outputs_hidden": false
    }
   },
   "outputs": [],
   "source": [
    "from pynwb import NWBHDF5IO\n",
    "\n",
    "with NWBHDF5IO('ecephys_example.nwb', 'w') as io:\n",
    "    io.write(nwbfile)"
   ]
  },
  {
   "cell_type": "markdown",
   "metadata": {},
   "source": [
    "For more details on :py:class:`~pynwb.NWBHDF5IO`, see the `basic tutorial <basic_writing>`.\n",
    "\n"
   ]
  },
  {
   "cell_type": "markdown",
   "metadata": {},
   "source": [
    "\n",
    "Reading electrophysiology data\n",
    "------------------------------\n",
    "\n",
    "Now that you have written some electrophysiology data, you can read it back in.\n",
    "\n"
   ]
  },
  {
   "cell_type": "code",
   "execution_count": 29,
   "metadata": {
    "collapsed": false,
    "jupyter": {
     "outputs_hidden": false
    }
   },
   "outputs": [],
   "source": [
    "io = NWBHDF5IO('ecephys_example.nwb', 'r')\n",
    "nwbfile = io.read()"
   ]
  },
  {
   "cell_type": "markdown",
   "metadata": {},
   "source": [
    "For details on retrieving data from an :py:class:`~pynwb.file.NWBFile`, we refer the reader to the\n",
    "`basic tutorial <basic_reading>`. For this tutorial, we will just get back our the\n",
    ":py:class:`~pynwb.ecephys.ElectricalSeries` object we added above.\n",
    "\n",
    "First, get the :py:class:`~pynwb.ecephys.ElectricalSeries`.\n",
    "\n"
   ]
  },
  {
   "cell_type": "code",
   "execution_count": 30,
   "metadata": {
    "collapsed": false,
    "jupyter": {
     "outputs_hidden": false
    }
   },
   "outputs": [],
   "source": [
    "ephys_ts = nwbfile.acquisition['test_ephys_data']"
   ]
  },
  {
   "cell_type": "markdown",
   "metadata": {},
   "source": [
    "The second dimension of the :py:func:`~pynwb.base.TimeSeries.data` attribute should be the\n",
    "electrodes the data was recorded with. We can get the electrodes for each column in *data*\n",
    "from the :py:func:`~pynwb.ecephys.ElectricalSeries.electrodes` attribute. For example,\n",
    "information about the electrode in the second index can be retrieved like so:\n",
    "\n"
   ]
  },
  {
   "cell_type": "code",
   "execution_count": 31,
   "metadata": {
    "collapsed": false,
    "jupyter": {
     "outputs_hidden": false
    }
   },
   "outputs": [],
   "source": [
    "elec2 = ephys_ts.electrodes[1]"
   ]
  },
  {
   "cell_type": "code",
   "execution_count": 37,
   "metadata": {},
   "outputs": [
    {
     "data": {
      "text/html": [
       "<div>\n",
       "<style scoped>\n",
       "    .dataframe tbody tr th:only-of-type {\n",
       "        vertical-align: middle;\n",
       "    }\n",
       "\n",
       "    .dataframe tbody tr th {\n",
       "        vertical-align: top;\n",
       "    }\n",
       "\n",
       "    .dataframe thead th {\n",
       "        text-align: right;\n",
       "    }\n",
       "</style>\n",
       "<table border=\"1\" class=\"dataframe\">\n",
       "  <thead>\n",
       "    <tr style=\"text-align: right;\">\n",
       "      <th></th>\n",
       "      <th>x</th>\n",
       "      <th>y</th>\n",
       "      <th>z</th>\n",
       "      <th>imp</th>\n",
       "      <th>location</th>\n",
       "      <th>filtering</th>\n",
       "      <th>group</th>\n",
       "      <th>group_name</th>\n",
       "    </tr>\n",
       "    <tr>\n",
       "      <th>id</th>\n",
       "      <th></th>\n",
       "      <th></th>\n",
       "      <th></th>\n",
       "      <th></th>\n",
       "      <th></th>\n",
       "      <th></th>\n",
       "      <th></th>\n",
       "      <th></th>\n",
       "    </tr>\n",
       "  </thead>\n",
       "  <tbody>\n",
       "    <tr>\n",
       "      <th>1</th>\n",
       "      <td>1.0</td>\n",
       "      <td>2.0</td>\n",
       "      <td>3.0</td>\n",
       "      <td>-1.0</td>\n",
       "      <td>CA1</td>\n",
       "      <td>none</td>\n",
       "      <td>N0131 pynwb.ecephys.ElectrodeGroup at 0x140678...</td>\n",
       "      <td>N0131</td>\n",
       "    </tr>\n",
       "    <tr>\n",
       "      <th>2</th>\n",
       "      <td>1.0</td>\n",
       "      <td>2.0</td>\n",
       "      <td>3.0</td>\n",
       "      <td>-2.0</td>\n",
       "      <td>CA1</td>\n",
       "      <td>none</td>\n",
       "      <td>N0131 pynwb.ecephys.ElectrodeGroup at 0x140678...</td>\n",
       "      <td>N0131</td>\n",
       "    </tr>\n",
       "  </tbody>\n",
       "</table>\n",
       "</div>"
      ],
      "text/plain": [
       "      x    y    z  imp location filtering  \\\n",
       "id                                          \n",
       "1   1.0  2.0  3.0 -1.0      CA1      none   \n",
       "2   1.0  2.0  3.0 -2.0      CA1      none   \n",
       "\n",
       "                                                group group_name  \n",
       "id                                                                \n",
       "1   N0131 pynwb.ecephys.ElectrodeGroup at 0x140678...      N0131  \n",
       "2   N0131 pynwb.ecephys.ElectrodeGroup at 0x140678...      N0131  "
      ]
     },
     "execution_count": 37,
     "metadata": {},
     "output_type": "execute_result"
    }
   ],
   "source": [
    "ephys_ts.electrodes[0:2]"
   ]
  },
  {
   "cell_type": "code",
   "execution_count": null,
   "metadata": {},
   "outputs": [],
   "source": []
  }
 ],
 "metadata": {
  "kernelspec": {
   "display_name": "Python 3",
   "language": "python",
   "name": "python3"
  },
  "language_info": {
   "codemirror_mode": {
    "name": "ipython",
    "version": 3
   },
   "file_extension": ".py",
   "mimetype": "text/x-python",
   "name": "python",
   "nbconvert_exporter": "python",
   "pygments_lexer": "ipython3",
   "version": "3.8.5"
  }
 },
 "nbformat": 4,
 "nbformat_minor": 4
}
